{
 "cells": [
  {
   "cell_type": "markdown",
   "metadata": {},
   "source": [
    "# 2018-05-25 gt-day 问题答案参考–Spark"
   ]
  },
  {
   "cell_type": "code",
   "execution_count": 1,
   "metadata": {},
   "outputs": [],
   "source": [
    "from pyspark.sql import SparkSession\n",
    "from pyspark.sql import functions as F"
   ]
  },
  {
   "cell_type": "code",
   "execution_count": 2,
   "metadata": {},
   "outputs": [],
   "source": [
    "spark = SparkSession.builder.getOrCreate()"
   ]
  },
  {
   "cell_type": "code",
   "execution_count": 3,
   "metadata": {},
   "outputs": [
    {
     "name": "stdout",
     "output_type": "stream",
     "text": [
      "+---------+----+-------+----+\n",
      "|     学年|学号|   科目|分数|\n",
      "+---------+----+-------+----+\n",
      "|2011-2012|   1|Chinese|  97|\n",
      "|2011-2012|   2|Chinese|  80|\n",
      "|2011-2012|   3|Chinese|  85|\n",
      "|2011-2012|   4|Chinese|  86|\n",
      "|2011-2012|   5|Chinese|  91|\n",
      "|2011-2012|   6|Chinese|  79|\n",
      "|2011-2012|   7|Chinese|  91|\n",
      "|2011-2012|   1|English|  70|\n",
      "|2011-2012|   2|English|  80|\n",
      "|2011-2012|   3|English|  94|\n",
      "|2011-2012|   4|English|  72|\n",
      "|2011-2012|   5|English|  94|\n",
      "|2011-2012|   6|English|  96|\n",
      "|2011-2012|   7|English|  77|\n",
      "|2011-2012|   1|   math|  72|\n",
      "|2011-2012|   2|   math|  90|\n",
      "|2011-2012|   3|   math|  89|\n",
      "|2011-2012|   5|   math|  72|\n",
      "|2011-2012|   6|   math|  91|\n",
      "|2011-2012|   7|   math|  66|\n",
      "|2011-2012|   4|   math|  60|\n",
      "|2012-2013|   6|Chinese|  95|\n",
      "|2012-2013|   1|Chinese|  85|\n",
      "|2012-2013|   7|Chinese|  83|\n",
      "|2012-2013|   3|Chinese|  78|\n",
      "|2012-2013|   2|Chinese|  76|\n",
      "|2012-2013|   5|Chinese|  76|\n",
      "|2012-2013|   4|Chinese|  72|\n",
      "|2012-2013|   5|English|  95|\n",
      "|2012-2013|   2|English|  91|\n",
      "|2012-2013|   6|English|  90|\n",
      "|2012-2013|   4|English|  86|\n",
      "|2012-2013|   3|English|  78|\n",
      "|2012-2013|   1|English|  72|\n",
      "|2012-2013|   7|English|  72|\n",
      "|2012-2013|   5|   math|  94|\n",
      "|2012-2013|   7|   math|  94|\n",
      "|2012-2013|   3|   math|  92|\n",
      "|2012-2013|   4|   math|  89|\n",
      "|2012-2013|   1|   math|  88|\n",
      "|2012-2013|   2|   math|  76|\n",
      "|2012-2013|   6|   math|  70|\n",
      "+---------+----+-------+----+\n",
      "\n"
     ]
    }
   ],
   "source": [
    "# 读取源数据\n",
    "df = spark.read.csv('/Users/cjh/Downloads/demo_data.csv', header=True)\n",
    "df.show(n=100)"
   ]
  },
  {
   "cell_type": "code",
   "execution_count": 4,
   "metadata": {},
   "outputs": [
    {
     "name": "stdout",
     "output_type": "stream",
     "text": [
      "+----+-------+------+\n",
      "|学号|   科目|最高分|\n",
      "+----+-------+------+\n",
      "|   1|English|    72|\n",
      "|   1|   math|    88|\n",
      "|   1|Chinese|    97|\n",
      "|   2|Chinese|    80|\n",
      "|   2|English|    91|\n",
      "|   2|   math|    90|\n",
      "|   3|   math|    92|\n",
      "|   3|Chinese|    85|\n",
      "|   3|English|    94|\n",
      "|   4|English|    86|\n",
      "|   4|   math|    89|\n",
      "|   4|Chinese|    86|\n",
      "|   5|Chinese|    91|\n",
      "|   5|   math|    94|\n",
      "|   5|English|    95|\n",
      "|   6|Chinese|    95|\n",
      "|   6|English|    96|\n",
      "|   6|   math|    91|\n",
      "|   7|Chinese|    91|\n",
      "|   7|English|    77|\n",
      "|   7|   math|    94|\n",
      "+----+-------+------+\n",
      "\n"
     ]
    }
   ],
   "source": [
    "# spark Dataframe的排序默认为升序\n",
    "\n",
    "# 学生每一门课程的历史最高分数(长格式)\n",
    "df.groupBy('学号', '科目').agg(F.max('分数').alias('最高分')).sort('学号').show(n=100)"
   ]
  },
  {
   "cell_type": "code",
   "execution_count": 5,
   "metadata": {},
   "outputs": [
    {
     "name": "stdout",
     "output_type": "stream",
     "text": [
      "+----+-------+-------+----+\n",
      "|学号|Chinese|English|math|\n",
      "+----+-------+-------+----+\n",
      "|   1|     97|     72|  88|\n",
      "|   2|     80|     91|  90|\n",
      "|   3|     85|     94|  92|\n",
      "|   4|     86|     86|  89|\n",
      "|   5|     91|     95|  94|\n",
      "|   6|     95|     96|  91|\n",
      "|   7|     91|     77|  94|\n",
      "+----+-------+-------+----+\n",
      "\n"
     ]
    }
   ],
   "source": [
    "# 学生每一门课程的历史最高分数(宽格式)\n",
    "df.groupBy('学号').pivot('科目', values=['Chinese', 'English', 'math']).agg(F.max('分数')).sort('学号').show()"
   ]
  },
  {
   "cell_type": "code",
   "execution_count": 6,
   "metadata": {},
   "outputs": [
    {
     "name": "stdout",
     "output_type": "stream",
     "text": [
      "+---------+----+-------+----+\n",
      "|     学年|学号|   科目|分数|\n",
      "+---------+----+-------+----+\n",
      "|2011-2012|   1|Chinese|  97|\n",
      "|2011-2012|   1|English|  70|\n",
      "|2011-2012|   1|   math|  72|\n",
      "|2011-2012|   2|Chinese|  80|\n",
      "|2011-2012|   2|English|  80|\n",
      "|2011-2012|   2|   math|  90|\n",
      "|2011-2012|   3|Chinese|  85|\n",
      "|2011-2012|   3|English|  94|\n",
      "|2011-2012|   3|   math|  89|\n",
      "|2011-2012|   4|Chinese|  86|\n",
      "|2011-2012|   4|English|  72|\n",
      "|2011-2012|   4|   math|  60|\n",
      "|2011-2012|   5|Chinese|  91|\n",
      "|2011-2012|   5|English|  94|\n",
      "|2011-2012|   5|   math|  72|\n",
      "|2011-2012|   6|Chinese|  79|\n",
      "|2011-2012|   6|English|  96|\n",
      "|2011-2012|   6|   math|  91|\n",
      "|2011-2012|   7|Chinese|  91|\n",
      "|2011-2012|   7|English|  77|\n",
      "|2011-2012|   7|   math|  66|\n",
      "|2012-2013|   1|Chinese|  85|\n",
      "|2012-2013|   1|English|  72|\n",
      "|2012-2013|   1|   math|  88|\n",
      "|2012-2013|   2|Chinese|  76|\n",
      "|2012-2013|   2|English|  91|\n",
      "|2012-2013|   2|   math|  76|\n",
      "|2012-2013|   3|Chinese|  78|\n",
      "|2012-2013|   3|English|  78|\n",
      "|2012-2013|   3|   math|  92|\n",
      "|2012-2013|   4|Chinese|  72|\n",
      "|2012-2013|   4|English|  86|\n",
      "|2012-2013|   4|   math|  89|\n",
      "|2012-2013|   5|Chinese|  76|\n",
      "|2012-2013|   5|English|  95|\n",
      "|2012-2013|   5|   math|  94|\n",
      "|2012-2013|   6|Chinese|  95|\n",
      "|2012-2013|   6|English|  90|\n",
      "|2012-2013|   6|   math|  70|\n",
      "|2012-2013|   7|Chinese|  83|\n",
      "|2012-2013|   7|English|  72|\n",
      "|2012-2013|   7|   math|  94|\n",
      "+---------+----+-------+----+\n",
      "\n"
     ]
    }
   ],
   "source": [
    "# 以学年, 学号, 科目排序\n",
    "df.sort('学年', '学号', '科目').show(n=100)"
   ]
  },
  {
   "cell_type": "code",
   "execution_count": 7,
   "metadata": {},
   "outputs": [
    {
     "name": "stdout",
     "output_type": "stream",
     "text": [
      "+---------+----+-------+----+\n",
      "|     学年|学号|   科目|分数|\n",
      "+---------+----+-------+----+\n",
      "|2011-2012|   1|Chinese|  97|\n",
      "|2011-2012|   2|Chinese|  80|\n",
      "|2011-2012|   3|Chinese|  85|\n",
      "|2011-2012|   4|Chinese|  86|\n",
      "|2011-2012|   5|Chinese|  91|\n",
      "|2011-2012|   6|Chinese|  79|\n",
      "|2011-2012|   7|Chinese|  91|\n",
      "|2011-2012|   1|English|  70|\n",
      "|2011-2012|   2|English|  80|\n",
      "|2011-2012|   3|English|  94|\n",
      "|2011-2012|   4|English|  72|\n",
      "|2011-2012|   5|English|  94|\n",
      "|2011-2012|   6|English|  96|\n",
      "|2011-2012|   7|English|  77|\n",
      "|2011-2012|   1|   math|  72|\n",
      "|2011-2012|   2|   math|  90|\n",
      "|2011-2012|   3|   math|  89|\n",
      "|2011-2012|   4|   math|  60|\n",
      "|2011-2012|   5|   math|  72|\n",
      "|2011-2012|   6|   math|  91|\n",
      "|2011-2012|   7|   math|  66|\n",
      "|2012-2013|   1|Chinese|  85|\n",
      "|2012-2013|   2|Chinese|  76|\n",
      "|2012-2013|   3|Chinese|  78|\n",
      "|2012-2013|   4|Chinese|  72|\n",
      "|2012-2013|   5|Chinese|  76|\n",
      "|2012-2013|   6|Chinese|  95|\n",
      "|2012-2013|   7|Chinese|  83|\n",
      "|2012-2013|   1|English|  72|\n",
      "|2012-2013|   2|English|  91|\n",
      "|2012-2013|   3|English|  78|\n",
      "|2012-2013|   4|English|  86|\n",
      "|2012-2013|   5|English|  95|\n",
      "|2012-2013|   6|English|  90|\n",
      "|2012-2013|   7|English|  72|\n",
      "|2012-2013|   1|   math|  88|\n",
      "|2012-2013|   2|   math|  76|\n",
      "|2012-2013|   3|   math|  92|\n",
      "|2012-2013|   4|   math|  89|\n",
      "|2012-2013|   5|   math|  94|\n",
      "|2012-2013|   6|   math|  70|\n",
      "|2012-2013|   7|   math|  94|\n",
      "+---------+----+-------+----+\n",
      "\n"
     ]
    }
   ],
   "source": [
    "# 以学年,  科目, 学号排序\n",
    "df.sort('学年', '科目', '学号').show(n=100)"
   ]
  },
  {
   "cell_type": "code",
   "execution_count": 28,
   "metadata": {},
   "outputs": [
    {
     "name": "stdout",
     "output_type": "stream",
     "text": [
      "+---------+----+-------+----+\n",
      "|     学年|学号|   科目|分数|\n",
      "+---------+----+-------+----+\n",
      "|2011-2012|   6|Chinese|  79|\n",
      "|2011-2012|   2|Chinese|  80|\n",
      "|2011-2012|   3|Chinese|  85|\n",
      "|2011-2012|   4|Chinese|  86|\n",
      "|2011-2012|   5|Chinese|  91|\n",
      "|2011-2012|   7|Chinese|  91|\n",
      "|2011-2012|   1|Chinese|  97|\n",
      "|2011-2012|   1|English|  70|\n",
      "|2011-2012|   4|English|  72|\n",
      "|2011-2012|   7|English|  77|\n",
      "|2011-2012|   2|English|  80|\n",
      "|2011-2012|   3|English|  94|\n",
      "|2011-2012|   5|English|  94|\n",
      "|2011-2012|   6|English|  96|\n",
      "|2011-2012|   4|   math|  60|\n",
      "|2011-2012|   7|   math|  66|\n",
      "|2011-2012|   5|   math|  72|\n",
      "|2011-2012|   1|   math|  72|\n",
      "|2011-2012|   3|   math|  89|\n",
      "|2011-2012|   2|   math|  90|\n",
      "|2011-2012|   6|   math|  91|\n",
      "|2012-2013|   4|Chinese|  72|\n",
      "|2012-2013|   2|Chinese|  76|\n",
      "|2012-2013|   5|Chinese|  76|\n",
      "|2012-2013|   3|Chinese|  78|\n",
      "|2012-2013|   7|Chinese|  83|\n",
      "|2012-2013|   1|Chinese|  85|\n",
      "|2012-2013|   6|Chinese|  95|\n",
      "|2012-2013|   1|English|  72|\n",
      "|2012-2013|   7|English|  72|\n",
      "|2012-2013|   3|English|  78|\n",
      "|2012-2013|   4|English|  86|\n",
      "|2012-2013|   6|English|  90|\n",
      "|2012-2013|   2|English|  91|\n",
      "|2012-2013|   5|English|  95|\n",
      "|2012-2013|   6|   math|  70|\n",
      "|2012-2013|   2|   math|  76|\n",
      "|2012-2013|   1|   math|  88|\n",
      "|2012-2013|   4|   math|  89|\n",
      "|2012-2013|   3|   math|  92|\n",
      "|2012-2013|   5|   math|  94|\n",
      "|2012-2013|   7|   math|  94|\n",
      "+---------+----+-------+----+\n",
      "\n"
     ]
    }
   ],
   "source": [
    "# 以学年,  科目, 分数\n",
    "df.sort('学年', '科目', '分数').show(n=100)"
   ]
  },
  {
   "cell_type": "code",
   "execution_count": null,
   "metadata": {},
   "outputs": [],
   "source": []
  }
 ],
 "metadata": {
  "kernelspec": {
   "display_name": "Python 3",
   "language": "python",
   "name": "python3"
  },
  "language_info": {
   "codemirror_mode": {
    "name": "ipython",
    "version": 3
   },
   "file_extension": ".py",
   "mimetype": "text/x-python",
   "name": "python",
   "nbconvert_exporter": "python",
   "pygments_lexer": "ipython3",
   "version": "3.7.2"
  }
 },
 "nbformat": 4,
 "nbformat_minor": 2
}
